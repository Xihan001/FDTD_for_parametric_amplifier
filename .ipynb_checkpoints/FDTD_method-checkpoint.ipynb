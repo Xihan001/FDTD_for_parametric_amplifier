{
 "cells": [
  {
   "cell_type": "code",
   "execution_count": 1,
   "metadata": {},
   "outputs": [],
   "source": [
    "import numpy as np\n",
    "import cmath\n",
    "import matplotlib.pyplot as plt\n",
    "from scipy.integrate import solve_ivp"
   ]
  },
  {
   "cell_type": "markdown",
   "metadata": {},
   "source": [
    "# Initialize parameters"
   ]
  },
  {
   "cell_type": "code",
   "execution_count": 2,
   "metadata": {},
   "outputs": [],
   "source": [
    "N = 140 # the number of LC unit cells: cell[0], ..., cell[N-1]\n",
    "wp = 11.56e9\n",
    "L_wide, L_thin = 3, 1\n",
    "C_wide, C_thin = 1, 3\n",
    "\n",
    "# initialize L and C\n",
    "L = ([L_wide]*2 + [L_thin]*8 + [L_wide]*1 + [L_thin]*8 + [L_wide]*1 + [L_thin]*8)*5\n",
    "I_s = ([L_wide]*2 + [L_thin]*8 + [L_wide]*1 + [L_thin]*8 + [L_wide]*1 + [L_thin]*8)*5 # I*\n",
    "C = ([C_wide]*2 + [C_thin]*8 + [C_wide]*1 + [C_thin]*8 + [C_wide]*1 + [C_thin]*8)*5 + [C_wide]\n",
    "\n",
    "L, I_s, C = np.asarray(L), np.asarray(I_s), np.asarray(C)"
   ]
  },
  {
   "cell_type": "markdown",
   "metadata": {},
   "source": [
    "# Solve the ODE numerically for pump current"
   ]
  },
  {
   "cell_type": "code",
   "execution_count": 3,
   "metadata": {},
   "outputs": [],
   "source": [
    "# construct delta(i, j):\n",
    "\n",
    "def del_init(i, j): \n",
    "        if 0 <= i <= N-1:\n",
    "            return int(N+i==j) - int(N+i+1==j)\n",
    "        if N <= i <= 2*N:\n",
    "            return int(i-N-1==j) - int(i-N==j)\n",
    "    \n",
    "delta = np.fromfunction(np.vectorize(del_init), (int(2*N+1),int(2*N+1)), dtype=int)"
   ]
  },
  {
   "cell_type": "code",
   "execution_count": 4,
   "metadata": {},
   "outputs": [],
   "source": [
    "def A_construct(y, delta=delta, L=L, C=C, I_s=I_s):    \n",
    "    B_up = 1 / (L * (1 + (y[0:L.shape[0]]/I_s**2) ))\n",
    "    B_down = 1 / C\n",
    "    B = np.concatenate([B_up, B_down])\n",
    "    \n",
    "    A = delta*B   \n",
    "    return A\n",
    "\n",
    "def fun(t, y):\n",
    "    return np.matmul(A_construct(y), y)"
   ]
  },
  {
   "cell_type": "code",
   "execution_count": 7,
   "metadata": {},
   "outputs": [],
   "source": [
    "y0 = np.random.random(2*N+1)"
   ]
  },
  {
   "cell_type": "code",
   "execution_count": 8,
   "metadata": {},
   "outputs": [
    {
     "name": "stdout",
     "output_type": "stream",
     "text": [
      "CPU times: user 9.99 s, sys: 1.09 s, total: 11.1 s\n",
      "Wall time: 2.86 s\n"
     ]
    }
   ],
   "source": [
    "%%time\n",
    "T, step = 100, 0.0001\n",
    "t_eval = [step*k for k in range(0, int(T/step))]\n",
    "sol = solve_ivp(fun, [0, T], y0, t_eval=t_eval, dense_output=True)"
   ]
  },
  {
   "cell_type": "code",
   "execution_count": null,
   "metadata": {},
   "outputs": [],
   "source": []
  },
  {
   "cell_type": "code",
   "execution_count": null,
   "metadata": {},
   "outputs": [],
   "source": []
  }
 ],
 "metadata": {
  "kernelspec": {
   "display_name": "Python 3",
   "language": "python",
   "name": "python3"
  },
  "language_info": {
   "codemirror_mode": {
    "name": "ipython",
    "version": 3
   },
   "file_extension": ".py",
   "mimetype": "text/x-python",
   "name": "python",
   "nbconvert_exporter": "python",
   "pygments_lexer": "ipython3",
   "version": "3.7.4"
  }
 },
 "nbformat": 4,
 "nbformat_minor": 2
}
