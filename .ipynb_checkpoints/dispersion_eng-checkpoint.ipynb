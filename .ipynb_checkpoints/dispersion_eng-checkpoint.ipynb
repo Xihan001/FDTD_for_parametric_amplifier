{
 "cells": [
  {
   "cell_type": "code",
   "execution_count": 27,
   "metadata": {},
   "outputs": [],
   "source": [
    "import numpy as np\n",
    "import cmath"
   ]
  },
  {
   "cell_type": "code",
   "execution_count": 76,
   "metadata": {},
   "outputs": [],
   "source": [
    "J = 3 # the number of harmonics to take in the computation of side bands \n",
    "wp = 11.561\n",
    "ws = 10\n",
    "Ap0 = 1\n",
    "I_star = 10\n",
    "\n",
    "def dispersion(w):\n",
    "    return w # assume no dispersion"
   ]
  },
  {
   "cell_type": "code",
   "execution_count": 77,
   "metadata": {},
   "outputs": [],
   "source": [
    "# create wn from n\n",
    "def wn_cal(n, wp=wp, ws=ws):\n",
    "    return n*wp + ws - wp\n",
    "\n",
    "def del_kn_cal(n, wp=wp, ws=ws):\n",
    "    kn = dispersion(wn_cal(n, wp=wp, ws=ws))\n",
    "    kn_minus_2 = dispersion(wn_cal(n-2, wp=wp, ws=ws))\n",
    "    kp = dispersion(wp)\n",
    "    return kn - kn_minus_2 - 2*kp\n",
    "    \n",
    "\n",
    "# create a dictionary of vn's \n",
    "def vn_gen(n, J=J):\n",
    "    vn = np.empty(J+1)\n",
    "    for num in range(J+1):\n",
    "        j = num+1 # the j in Eq. 9a\n",
    "        if 1 <= j <= 1 + (n+J)/2:\n",
    "            vn[num]= 1\n",
    "        if 1 + (n+J)/2 < j <= J+1:\n",
    "            vn[num]=-1\n",
    "    return vn"
   ]
  },
  {
   "cell_type": "code",
   "execution_count": 78,
   "metadata": {},
   "outputs": [],
   "source": [
    "# calculate delta phi\n",
    "del_phi = dispersion(wp)*Ap0**2/(8*I_star**2)\n",
    "\n",
    "# calculate K\n",
    "K = np.empty(J+1)\n",
    "K[0] = 0\n",
    "for num in range(1, J+1):\n",
    "    K[num] = del_kn_cal(-J + 2*num) + 2*del_phi"
   ]
  },
  {
   "cell_type": "code",
   "execution_count": 86,
   "metadata": {},
   "outputs": [],
   "source": [
    "# construct Coefficient matrix for the linear ODEs for Bn\n",
    "# this is a (2J+1)*(2J+1) matrix, corresponding to -J,...,0,...,+J\n",
    "\n",
    "CoefficientMatrix = np.zeros([2*J+1,2*J+1])\n",
    "\n",
    "for num in range(2*J+1):\n",
    "    n = num - J\n",
    "    if n%2 == 0:\n",
    "        continue\n",
    "    if n-2 >= -J: \n",
    "        CoefficientMatrix[num, num-2] = -wn_cal(n)*del_phi/wp \n",
    "    CoefficientMatrix[num, num] = -np.dot(vn_gen(n), K)\n",
    "    if n+2 <= J:\n",
    "        CoefficientMatrix[num, num+2] = -wn_cal(n)*del_phi/wp"
   ]
  },
  {
   "cell_type": "code",
   "execution_count": 87,
   "metadata": {},
   "outputs": [],
   "source": [
    "from numpy import linalg as LA\n",
    "w, v = LA.eig(CoefficientMatrix)"
   ]
  },
  {
   "cell_type": "code",
   "execution_count": 100,
   "metadata": {},
   "outputs": [],
   "source": [
    "An0 = np.ones(2*J+1) # An(z=0)\n",
    "for i in range(2*J+1):\n",
    "    if i%2 == 0:\n",
    "        An0[i] = 0\n",
    "    else:\n",
    "        An0[i] = 1/(i+1)**3"
   ]
  },
  {
   "cell_type": "code",
   "execution_count": 102,
   "metadata": {},
   "outputs": [],
   "source": [
    "C = np.linalg.solve(v, An0)"
   ]
  },
  {
   "cell_type": "code",
   "execution_count": 105,
   "metadata": {},
   "outputs": [
    {
     "data": {
      "text/plain": [
       "array([ 0.        , -0.        , -0.        , -0.        ,  0.125     ,\n",
       "        0.015625  ,  0.00462963])"
      ]
     },
     "execution_count": 105,
     "metadata": {},
     "output_type": "execute_result"
    }
   ],
   "source": [
    "C"
   ]
  },
  {
   "cell_type": "code",
   "execution_count": null,
   "metadata": {},
   "outputs": [],
   "source": []
  }
 ],
 "metadata": {
  "kernelspec": {
   "display_name": "Python 3",
   "language": "python",
   "name": "python3"
  },
  "language_info": {
   "codemirror_mode": {
    "name": "ipython",
    "version": 3
   },
   "file_extension": ".py",
   "mimetype": "text/x-python",
   "name": "python",
   "nbconvert_exporter": "python",
   "pygments_lexer": "ipython3",
   "version": "3.7.4"
  }
 },
 "nbformat": 4,
 "nbformat_minor": 2
}
