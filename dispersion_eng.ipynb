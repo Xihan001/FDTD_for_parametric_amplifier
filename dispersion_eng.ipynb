{
 "cells": [
  {
   "cell_type": "code",
   "execution_count": 1,
   "metadata": {},
   "outputs": [],
   "source": [
    "import numpy as np\n",
    "import cmath"
   ]
  },
  {
   "cell_type": "code",
   "execution_count": 16,
   "metadata": {},
   "outputs": [],
   "source": [
    "J = 3 # the number of harmonics to take in the computation of side bands \n",
    "wp = 11.561\n",
    "ws = 10\n",
    "Ap0 = 1\n",
    "I_star = 10\n",
    "L = 1.\n",
    "\n",
    "def dispersion(w):\n",
    "    return w # assume no dispersion"
   ]
  },
  {
   "cell_type": "code",
   "execution_count": 17,
   "metadata": {},
   "outputs": [],
   "source": [
    "# create wn from n\n",
    "def wn_cal(n, wp=wp, ws=ws):\n",
    "    return n*wp + ws - wp\n",
    "\n",
    "def del_kn_cal(n, wp=wp, ws=ws):\n",
    "    kn = dispersion(wn_cal(n, wp=wp, ws=ws))\n",
    "    kn_minus_2 = dispersion(wn_cal(n-2, wp=wp, ws=ws))\n",
    "    kp = dispersion(wp)\n",
    "    return kn - kn_minus_2 - 2*kp\n",
    "    \n",
    "\n",
    "# create a dictionary of vn's \n",
    "def vn_gen(n, J=J):\n",
    "    vn = np.empty(J+1)\n",
    "    for num in range(J+1):\n",
    "        j = num+1 # the j in Eq. 9a\n",
    "        if 1 <= j <= 1 + (n+J)/2:\n",
    "            vn[num]= 1\n",
    "        if 1 + (n+J)/2 < j <= J+1:\n",
    "            vn[num]=-1\n",
    "    return vn"
   ]
  },
  {
   "cell_type": "code",
   "execution_count": 18,
   "metadata": {},
   "outputs": [],
   "source": [
    "# calculate delta phi\n",
    "del_phi = dispersion(wp)*Ap0**2/(8*I_star**2)\n",
    "\n",
    "# calculate K\n",
    "K = np.empty(J+1)\n",
    "K[0] = 0\n",
    "for num in range(1, J+1):\n",
    "    K[num] = del_kn_cal(-J + 2*num) + 2*del_phi"
   ]
  },
  {
   "cell_type": "code",
   "execution_count": 19,
   "metadata": {},
   "outputs": [],
   "source": [
    "# construct Coefficient matrix for the linear ODEs for Bn\n",
    "# this is a (2J+1)*(2J+1) matrix, corresponding to -J,...,0,...,+J\n",
    "\n",
    "CoefficientMatrix = np.zeros([2*J+1,2*J+1], dtype=np.complex_)\n",
    "\n",
    "for num in range(2*J+1):\n",
    "    n = num - J\n",
    "    if n%2 == 0:\n",
    "        continue\n",
    "    if n-2 >= -J: \n",
    "        CoefficientMatrix[num, num-2] = -wn_cal(n)*del_phi/wp * 1.j\n",
    "    CoefficientMatrix[num, num] = -np.dot(vn_gen(n), K) * 1.j\n",
    "    if n+2 <= J:\n",
    "        CoefficientMatrix[num, num+2] = -wn_cal(n)*del_phi/wp * 1.j"
   ]
  },
  {
   "cell_type": "code",
   "execution_count": 20,
   "metadata": {},
   "outputs": [],
   "source": [
    "from numpy import linalg as LA\n",
    "eigenval, eigenmatrix = LA.eig(CoefficientMatrix)\n",
    "tol = 1e-16"
   ]
  },
  {
   "cell_type": "code",
   "execution_count": 21,
   "metadata": {},
   "outputs": [],
   "source": [
    "An0 = np.ones(2*J+1) # An(z=0)\n",
    "for i in range(2*J+1):\n",
    "    if (i-J)%2 == 0:\n",
    "        An0[i] = 0\n",
    "    else:\n",
    "        An0[i] = 1/(abs((i-J)))**3"
   ]
  },
  {
   "cell_type": "code",
   "execution_count": 22,
   "metadata": {},
   "outputs": [],
   "source": [
    "C = np.linalg.solve(eigenmatrix, An0) # coefficients\n",
    "prop = np.multiply( np.exp(eigenval*L), C)"
   ]
  },
  {
   "cell_type": "code",
   "execution_count": 23,
   "metadata": {},
   "outputs": [],
   "source": [
    "Bz = np.matmul(eigenmatrix, prop)"
   ]
  },
  {
   "cell_type": "code",
   "execution_count": 24,
   "metadata": {},
   "outputs": [],
   "source": [
    "Bz1 = Bz[J+1]\n",
    "Az1 = Bz1 * np.exp(1.j * ( (2*wn_cal(n)*del_phi/wp)- 0.5*(np.dot(vn_gen(1), K)) ))"
   ]
  },
  {
   "cell_type": "code",
   "execution_count": 30,
   "metadata": {},
   "outputs": [
    {
     "data": {
      "text/plain": [
       "1.0002790921075173"
      ]
     },
     "execution_count": 30,
     "metadata": {},
     "output_type": "execute_result"
    }
   ],
   "source": [
    "np.absolute(Az1/An0[J+1])"
   ]
  },
  {
   "cell_type": "code",
   "execution_count": null,
   "metadata": {},
   "outputs": [],
   "source": []
  },
  {
   "cell_type": "code",
   "execution_count": null,
   "metadata": {},
   "outputs": [],
   "source": []
  },
  {
   "cell_type": "code",
   "execution_count": null,
   "metadata": {},
   "outputs": [],
   "source": []
  },
  {
   "cell_type": "code",
   "execution_count": null,
   "metadata": {},
   "outputs": [],
   "source": []
  }
 ],
 "metadata": {
  "kernelspec": {
   "display_name": "Python 3",
   "language": "python",
   "name": "python3"
  },
  "language_info": {
   "codemirror_mode": {
    "name": "ipython",
    "version": 3
   },
   "file_extension": ".py",
   "mimetype": "text/x-python",
   "name": "python",
   "nbconvert_exporter": "python",
   "pygments_lexer": "ipython3",
   "version": "3.7.4"
  }
 },
 "nbformat": 4,
 "nbformat_minor": 2
}
